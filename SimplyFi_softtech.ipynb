{
 "cells": [
  {
   "cell_type": "markdown",
   "id": "d42d7f18-2573-4aab-a792-3d6df9dc77f0",
   "metadata": {},
   "source": [
    "### Question 1\r\n",
    "Write a python code for converting integer values to Indian currency notations, without \r\n",
    "using the currency libraries\r\n",
    "Example:\r\n",
    "input: 504678\r\n",
    "output: 5,04,67"
   ]
  },
  {
   "cell_type": "code",
   "execution_count": 1,
   "id": "1ab0a97c-8d84-4314-ae52-ac830e4f165f",
   "metadata": {},
   "outputs": [
    {
     "name": "stdout",
     "output_type": "stream",
     "text": [
      "50,46,78\n"
     ]
    }
   ],
   "source": [
    "def convert_to_indian_currency(number):\n",
    "    num_str = str(number)\n",
    "    result = ''\n",
    "\n",
    "    # Use slicing to insert commas every two digits from the end\n",
    "    while len(num_str) > 2:\n",
    "        result = ',' + num_str[-2:] + result\n",
    "        num_str = num_str[:-2]\n",
    "    result = num_str + result\n",
    "    return result\n",
    "\n",
    "input_number = 504678\n",
    "output = convert_to_indian_currency(input_number)\n",
    "print(output) "
   ]
  },
  {
   "cell_type": "markdown",
   "id": "44caa17e-ebe0-48e9-8ea2-705dd2b57ddb",
   "metadata": {},
   "source": [
    "###  Question 2:"
   ]
  },
  {
   "cell_type": "markdown",
   "id": "eb52208a-9102-48e4-89b3-95a03da99c79",
   "metadata": {},
   "source": [
    "You won’t get caught if you hide behind someone.”\n",
    "Sang-Woo advises Gi-Hun to hide behind someone to avoid getting shot.\n",
    "Gi-Hun follows Sang-Woo's advice and hides behind Ali, who saved his life earlier. Gi-Hun and Ali \n",
    "both have the same height, K\n",
    ". Many players saw this trick and also started hiding behind Ali. \n",
    "Now, there are N\n",
    "players standing between Gi-Hun and Ali in a straight line, with the ith player having height Hi\n",
    ". Gi-Hun wants to know the minimum number of players who need to get shot so that Ali is visible \n",
    "in his line of sight.\n",
    "Note:\n",
    "• Line of sight is a straight line drawn between the topmost point of two objects. Ali is visible \n",
    "to Gi-Hun if nobody between them crosses this line. \n",
    "• Even if there are some players who have the same height as that of Gi-Hun and Ali, Ali will \n",
    "be visible in Gi-Hun's line of sight. \n",
    "• Gi-Hun and Ali have the same height. \n",
    "Input Format\n",
    "• The first line of input contains a single integer T\n",
    ", denoting the number of test cases. The description of T\n",
    "• test cases follows. \n",
    "• The first line of each test case contains two space-separated integers N and K\n",
    "• , denoting the total number of players between Gi-Hun and Ali and the height of both of \n",
    "them respectively. \n",
    "• The second line of each test case contains N\n",
    "• space-separated integers, denoting the heights of the players between Gi-Hun and Ali. \n",
    "Output Format\n",
    "For each test case, output in a single line the "
   ]
  },
  {
   "cell_type": "code",
   "execution_count": 10,
   "id": "578712b8-3d45-4842-a3b1-dd1ce3550112",
   "metadata": {},
   "outputs": [
    {
     "name": "stdin",
     "output_type": "stream",
     "text": [
      " 3\n",
      " 4 10\n",
      " 2 13 4 16\n",
      " 5 8\n",
      " 9 3 8 8 4\n",
      " 4 6\n",
      " 1 2 3 4\n"
     ]
    },
    {
     "name": "stdout",
     "output_type": "stream",
     "text": [
      "2\n",
      "1\n",
      "0\n"
     ]
    }
   ],
   "source": [
    "def find_min_shots(T, test_cases):\n",
    "    results = []\n",
    "    for i in range(T):\n",
    "        N, K = test_cases[i][0]\n",
    "        heights = test_cases[i][1]\n",
    "        count = sum(1 for height in heights if height > K)\n",
    "        results.append(count)\n",
    "    return results\n",
    "\n",
    "# Input reading\n",
    "T = int(input())\n",
    "test_cases = []\n",
    "for _ in range(T):\n",
    "    N, K = map(int, input().split())\n",
    "    heights = list(map(int, input().split()))\n",
    "    test_cases.append(((N, K), heights))\n",
    "\n",
    "# Process and Output\n",
    "results = find_min_shots(T, test_cases)\n",
    "for result in results:\n",
    "    print(result)\n"
   ]
  },
  {
   "cell_type": "code",
   "execution_count": null,
   "id": "758cefc1-0489-4fe4-82f6-12162a05200f",
   "metadata": {},
   "outputs": [],
   "source": []
  }
 ],
 "metadata": {
  "kernelspec": {
   "display_name": "Python 3 (ipykernel)",
   "language": "python",
   "name": "python3"
  },
  "language_info": {
   "codemirror_mode": {
    "name": "ipython",
    "version": 3
   },
   "file_extension": ".py",
   "mimetype": "text/x-python",
   "name": "python",
   "nbconvert_exporter": "python",
   "pygments_lexer": "ipython3",
   "version": "3.11.7"
  }
 },
 "nbformat": 4,
 "nbformat_minor": 5
}
